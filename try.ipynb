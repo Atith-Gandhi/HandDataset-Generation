{
 "cells": [
  {
   "cell_type": "code",
   "execution_count": 1,
   "id": "7e44dfe7",
   "metadata": {},
   "outputs": [],
   "source": [
    "import numpy as np\n",
    "import matplotlib.pyplot as plt\n",
    "from mpl_toolkits.mplot3d import Axes3D"
   ]
  },
  {
   "cell_type": "code",
   "execution_count": 2,
   "id": "9dcaf343",
   "metadata": {},
   "outputs": [],
   "source": [
    "%matplotlib qt"
   ]
  },
  {
   "cell_type": "code",
   "execution_count": 3,
   "id": "73a44e2c",
   "metadata": {},
   "outputs": [],
   "source": [
    "ver_normal = np.load(\"ver_normals.npy\")"
   ]
  },
  {
   "cell_type": "code",
   "execution_count": 4,
   "id": "8af89315",
   "metadata": {},
   "outputs": [
    {
     "data": {
      "text/plain": [
       "(778, 3)"
      ]
     },
     "execution_count": 4,
     "metadata": {},
     "output_type": "execute_result"
    }
   ],
   "source": [
    "ver_normal.shape"
   ]
  },
  {
   "cell_type": "code",
   "execution_count": 5,
   "id": "16b09337",
   "metadata": {},
   "outputs": [
    {
     "data": {
      "text/plain": [
       "(778, 3)"
      ]
     },
     "execution_count": 5,
     "metadata": {},
     "output_type": "execute_result"
    }
   ],
   "source": [
    "ver = np.load(\"ver.npy\")\n",
    "ver.shape"
   ]
  },
  {
   "cell_type": "code",
   "execution_count": 6,
   "id": "617bed10",
   "metadata": {},
   "outputs": [
    {
     "data": {
      "text/plain": [
       "array([[   8.70069434,  100.86067452, -374.64774672],\n",
       "       [   0.83661297,  119.85019655, -369.6449892 ],\n",
       "       [  20.88574597,  114.00937983, -358.24874971],\n",
       "       [  26.81758832,   95.74418344, -365.03614563],\n",
       "       [  10.41815953,  158.42255407, -350.74191308],\n",
       "       [  20.66663038,  180.04409734, -356.88666077],\n",
       "       [  44.20643477,  160.95678115, -346.29537036],\n",
       "       [  32.49029907,  145.10911691, -341.30317328],\n",
       "       [  44.83086315,   91.45039323, -362.48084748],\n",
       "       [  37.55857233,  108.33737544, -351.56557651]])"
      ]
     },
     "execution_count": 6,
     "metadata": {},
     "output_type": "execute_result"
    }
   ],
   "source": [
    "ver[:10]"
   ]
  },
  {
   "cell_type": "code",
   "execution_count": 17,
   "id": "e98673ad",
   "metadata": {},
   "outputs": [
    {
     "data": {
      "text/plain": [
       "0.7853981633974483"
      ]
     },
     "execution_count": 17,
     "metadata": {},
     "output_type": "execute_result"
    }
   ],
   "source": [
    "c = np.ones((100, 3))\n",
    "up_mask = ver_normal[:100, 2] > 0\n",
    "# np.where(up_mask, [1, 1, 1], [0, 0, 0])\n",
    "c[up_mask, :] = [0, 0, 0]\n",
    "np.pi / 4"
   ]
  },
  {
   "cell_type": "code",
   "execution_count": 22,
   "id": "acd870ba",
   "metadata": {},
   "outputs": [
    {
     "data": {
      "text/plain": [
       "array([False, False, False, False, False, False, False, False, False,\n",
       "       False,  True,  True, False,  True, False, False, False, False,\n",
       "       False, False, False, False, False, False, False, False, False,\n",
       "       False, False,  True,  True,  True, False, False, False, False,\n",
       "       False, False, False,  True, False,  True,  True,  True, False,\n",
       "       False, False, False, False, False,  True,  True,  True,  True,\n",
       "        True, False, False,  True,  True, False, False, False, False,\n",
       "       False, False, False, False, False, False, False, False, False,\n",
       "       False, False, False, False, False, False,  True,  True, False,\n",
       "        True,  True, False, False, False, False, False,  True,  True,\n",
       "        True,  True,  True, False, False, False, False, False, False,\n",
       "       False])"
      ]
     },
     "execution_count": 22,
     "metadata": {},
     "output_type": "execute_result"
    }
   ],
   "source": [
    "vec = ver_normal[0, :]\n",
    "vec = np.array([0, 1, 1])\n",
    "angle = np.arcsin(np.abs(vec[2]) / np.linalg.norm(vec))\n",
    "vec, angle\n",
    "\n",
    "def calc_angle(vec):\n",
    "    return np.arcsin(np.abs(vec[2]) / np.linalg.norm(vec))\n",
    "np.apply_along_axis(calc_angle, 1, ver_normal[:num_arrow, :]) < (np.pi / 6)"
   ]
  },
  {
   "cell_type": "code",
   "execution_count": 23,
   "id": "0ab184fd",
   "metadata": {},
   "outputs": [],
   "source": [
    "# soa = np.array([[0, 0, 0, 1, -2, 0], [0, 0, 0, 1, 1, 0],\n",
    "#                 [0, 0, 0, 2, 1, 0], [0, 0, 0, 0.5, 0.7, 0]])\n",
    "\n",
    "def calc_angle(vec):\n",
    "    return np.arcsin(np.abs(vec[2]) / np.linalg.norm(vec))\n",
    "\n",
    "num_arrow = 100\n",
    "\n",
    "soa = np.concatenate([np.zeros((778, 3)), ver_normal], axis=1)[:50]\n",
    "soa = np.concatenate([ver, ver_normal * 50], axis=1)[:num_arrow]\n",
    "\n",
    "# soa = np.concatenate([np.zeros((778, 3)), ver_normal - ver], axis=1)[:50]\n",
    "\n",
    "X, Y, Z, U, V, W = zip(*soa)\n",
    "\n",
    "\n",
    "# # Color by azimuthal angle\n",
    "# c = np.arctan2(V, U)\n",
    "# # Flatten and normalize\n",
    "# c = (c.ravel() - c.min()) / c.ptp()\n",
    "# # Repeat for each body line and two head lines\n",
    "# c = np.concatenate((c, np.repeat(c, 2)))\n",
    "# # Colormap\n",
    "# c = plt.cm.hsv(c)\n",
    "\n",
    "# c = np.ones((100, 3)) / 2\n",
    "\n",
    "c = np.ones((num_arrow, 3))\n",
    "up_mask = ver_normal[:num_arrow, 2] > 0\n",
    "c[up_mask, :] = [0.6, 0.5, 0.4]\n",
    "side_mask = np.apply_along_axis(calc_angle, 1, ver_normal[:num_arrow, :]) < (np.pi / 6)\n",
    "c[side_mask, :] = [0.9, 0.6, 0.8]\n",
    "\n",
    "\n",
    "up_mask = ver_normal[:, 2] > 0\n",
    "\n",
    "\n",
    "\n",
    "\n",
    "\n",
    "\n",
    "fig = plt.figure()\n",
    "ax = fig.add_subplot(111, projection='3d')\n",
    "ax.quiver(X, Y, Z, U, V, W, colors=c)\n",
    "size = 200\n",
    "ax.set_xlim([-100, 100])\n",
    "ax.set_ylim([-50, 200])\n",
    "ax.set_zlim([-500, -300])\n",
    "plt.show()"
   ]
  },
  {
   "cell_type": "code",
   "execution_count": 41,
   "id": "c5b12965",
   "metadata": {},
   "outputs": [
    {
     "data": {
      "text/plain": [
       "array([ True,  True,  True,  True,  True,  True,  True,  True,  True,\n",
       "        True,  True,  True,  True,  True, False, False, False, False,\n",
       "       False, False, False, False, False, False,  True,  True,  True,\n",
       "        True, False, False, False, False,  True,  True,  True,  True,\n",
       "        True,  True,  True,  True,  True,  True,  True,  True,  True,\n",
       "        True,  True,  True,  True,  True, False, False, False,  True,\n",
       "       False, False, False, False, False, False,  True,  True,  True,\n",
       "        True,  True,  True,  True,  True,  True,  True,  True,  True,\n",
       "        True,  True,  True,  True,  True,  True, False,  True, False,\n",
       "       False, False, False, False, False, False, False, False, False,\n",
       "       False, False, False,  True,  True,  True,  True,  True,  True,\n",
       "        True,  True,  True,  True,  True, False, False,  True,  True,\n",
       "        True,  True,  True,  True,  True,  True,  True,  True,  True,\n",
       "        True,  True,  True,  True, False,  True,  True,  True,  True,\n",
       "        True, False,  True,  True,  True,  True,  True, False, False,\n",
       "       False, False,  True,  True,  True,  True,  True,  True, False,\n",
       "       False, False,  True,  True,  True,  True,  True,  True,  True,\n",
       "       False,  True,  True,  True,  True, False,  True, False, False,\n",
       "       False, False,  True,  True,  True,  True,  True,  True,  True,\n",
       "        True,  True,  True, False, False, False, False, False, False,\n",
       "       False, False, False, False, False, False, False, False,  True,\n",
       "        True, False, False, False, False,  True,  True,  True,  True,\n",
       "        True,  True, False, False, False, False, False, False, False,\n",
       "       False, False, False, False, False, False, False, False, False,\n",
       "       False, False, False, False, False, False, False,  True, False,\n",
       "       False, False, False,  True, False, False, False, False, False,\n",
       "       False, False, False,  True,  True, False,  True,  True,  True,\n",
       "        True,  True,  True,  True,  True,  True,  True, False,  True,\n",
       "        True, False,  True,  True, False,  True, False, False, False,\n",
       "       False,  True, False,  True,  True,  True,  True,  True, False,\n",
       "       False,  True, False,  True, False,  True, False, False,  True,\n",
       "       False,  True,  True, False, False,  True,  True, False, False,\n",
       "        True, False, False, False, False, False, False, False, False,\n",
       "        True,  True, False,  True,  True, False, False, False, False,\n",
       "       False, False, False,  True, False, False, False, False, False,\n",
       "       False, False,  True, False, False,  True,  True,  True,  True,\n",
       "        True,  True,  True,  True,  True,  True,  True,  True,  True,\n",
       "        True, False, False, False, False, False, False,  True,  True,\n",
       "        True,  True,  True,  True,  True,  True,  True,  True,  True,\n",
       "        True,  True,  True,  True,  True,  True,  True,  True,  True,\n",
       "       False,  True, False, False, False, False, False, False, False,\n",
       "       False,  True,  True,  True,  True,  True,  True,  True,  True,\n",
       "        True,  True,  True, False, False, False,  True,  True,  True,\n",
       "        True, False, False, False, False,  True,  True, False, False,\n",
       "        True,  True,  True, False, False,  True,  True,  True, False,\n",
       "       False, False, False, False,  True,  True, False, False,  True,\n",
       "       False, False,  True, False, False, False, False, False, False,\n",
       "       False, False, False, False, False, False,  True, False,  True,\n",
       "        True,  True,  True,  True,  True,  True,  True,  True,  True,\n",
       "        True,  True,  True,  True, False, False, False, False, False,\n",
       "       False, False,  True,  True,  True,  True,  True,  True, False,\n",
       "        True, False,  True,  True,  True,  True,  True,  True,  True,\n",
       "        True,  True,  True,  True, False, False, False, False, False,\n",
       "       False, False, False, False, False,  True,  True,  True,  True,\n",
       "        True,  True,  True,  True,  True, False, False, False,  True,\n",
       "        True,  True,  True, False, False, False, False,  True,  True,\n",
       "       False, False,  True,  True,  True, False,  True, False, False,\n",
       "        True,  True, False, False, False, False, False, False,  True,\n",
       "       False,  True,  True, False, False, False, False, False, False,\n",
       "       False, False, False, False, False, False, False, False, False,\n",
       "        True, False, False, False,  True,  True,  True,  True,  True,\n",
       "        True,  True,  True,  True,  True,  True,  True, False, False,\n",
       "       False,  True,  True,  True, False,  True,  True,  True,  True,\n",
       "        True,  True,  True,  True,  True,  True,  True,  True,  True,\n",
       "        True,  True,  True,  True,  True,  True,  True,  True, False,\n",
       "       False, False, False, False, False, False, False, False, False,\n",
       "        True,  True,  True,  True,  True,  True,  True,  True,  True,\n",
       "        True,  True,  True,  True,  True,  True,  True, False, False,\n",
       "        True,  True,  True,  True, False, False,  True,  True,  True,\n",
       "        True,  True, False,  True,  True,  True, False, False, False,\n",
       "        True,  True, False, False, False, False, False, False,  True,\n",
       "        True,  True,  True,  True, False, False, False, False, False,\n",
       "       False, False, False, False, False, False, False, False, False,\n",
       "       False, False, False, False,  True,  True,  True,  True,  True,\n",
       "        True,  True,  True,  True,  True,  True,  True, False, False,\n",
       "        True,  True,  True,  True, False,  True,  True,  True,  True,\n",
       "        True,  True,  True,  True,  True,  True,  True,  True,  True,\n",
       "        True,  True,  True,  True, False, False,  True,  True,  True,\n",
       "        True,  True, False, False, False, False, False,  True,  True,\n",
       "        True, False, False, False, False, False,  True,  True,  True,\n",
       "        True,  True,  True, False, False, False, False, False,  True,\n",
       "       False,  True, False,  True,  True,  True,  True,  True,  True,\n",
       "        True,  True,  True,  True,  True,  True,  True,  True, False,\n",
       "       False, False, False, False, False, False,  True,  True,  True,\n",
       "        True, False, False, False, False, False, False,  True, False,\n",
       "       False,  True,  True,  True,  True,  True,  True,  True,  True,\n",
       "        True,  True,  True,  True])"
      ]
     },
     "execution_count": 41,
     "metadata": {},
     "output_type": "execute_result"
    }
   ],
   "source": [
    "up_mask"
   ]
  },
  {
   "cell_type": "code",
   "execution_count": 46,
   "id": "f6a35eb9",
   "metadata": {},
   "outputs": [
    {
     "data": {
      "text/plain": [
       "array([  0,   1,   2,   3,   4,   5,   6,   7,   8,   9,  10,  11,  12,\n",
       "        13,  24,  25,  26,  27,  32,  33,  34,  35,  36,  37,  38,  39,\n",
       "        40,  41,  42,  43,  44,  45,  46,  47,  48,  49,  53,  60,  61,\n",
       "        62,  63,  64,  65,  66,  67,  68,  69,  70,  71,  72,  73,  74,\n",
       "        75,  76,  77,  79,  93,  94,  95,  96,  97,  98,  99, 100, 101,\n",
       "       102, 103, 106, 107, 108, 109, 110, 111, 112, 113, 114, 115, 116,\n",
       "       117, 118, 119, 120, 122, 123, 124, 125, 126, 128, 129, 130, 131,\n",
       "       132, 137, 138, 139, 140, 141, 142, 146, 147, 148, 149, 150, 151,\n",
       "       152, 154, 155, 156, 157, 159, 164, 165, 166, 167, 168, 169, 170,\n",
       "       171, 172, 173, 188, 189, 194, 195, 196, 197, 198, 199, 223, 228,\n",
       "       237, 238, 240, 241, 242, 243, 244, 245, 246, 247, 248, 249, 251,\n",
       "       252, 254, 255, 257, 262, 264, 265, 266, 267, 268, 271, 273, 275,\n",
       "       278, 280, 281, 284, 285, 288, 297, 298, 300, 301, 309, 317, 320,\n",
       "       321, 322, 323, 324, 325, 326, 327, 328, 329, 330, 331, 332, 333,\n",
       "       340, 341, 342, 343, 344, 345, 346, 347, 348, 349, 350, 351, 352,\n",
       "       353, 354, 355, 356, 357, 358, 359, 361, 370, 371, 372, 373, 374,\n",
       "       375, 376, 377, 378, 379, 380, 384, 385, 386, 387, 392, 393, 396,\n",
       "       397, 398, 401, 402, 403, 409, 410, 413, 416, 429, 431, 432, 433,\n",
       "       434, 435, 436, 437, 438, 439, 440, 441, 442, 443, 444, 452, 453,\n",
       "       454, 455, 456, 457, 459, 461, 462, 463, 464, 465, 466, 467, 468,\n",
       "       469, 470, 471, 482, 483, 484, 485, 486, 487, 488, 489, 490, 494,\n",
       "       495, 496, 497, 502, 503, 506, 507, 508, 510, 513, 514, 521, 523,\n",
       "       524, 540, 544, 545, 546, 547, 548, 549, 550, 551, 552, 553, 554,\n",
       "       555, 559, 560, 561, 563, 564, 565, 566, 567, 568, 569, 570, 571,\n",
       "       572, 573, 574, 575, 576, 577, 578, 579, 580, 581, 582, 583, 594,\n",
       "       595, 596, 597, 598, 599, 600, 601, 602, 603, 604, 605, 606, 607,\n",
       "       608, 609, 612, 613, 614, 615, 618, 619, 620, 621, 622, 624, 625,\n",
       "       626, 630, 631, 638, 639, 640, 641, 642, 661, 662, 663, 664, 665,\n",
       "       666, 667, 668, 669, 670, 671, 672, 675, 676, 677, 678, 680, 681,\n",
       "       682, 683, 684, 685, 686, 687, 688, 689, 690, 691, 692, 693, 694,\n",
       "       695, 696, 699, 700, 701, 702, 703, 709, 710, 711, 717, 718, 719,\n",
       "       720, 721, 722, 728, 730, 732, 733, 734, 735, 736, 737, 738, 739,\n",
       "       740, 741, 742, 743, 744, 745, 753, 754, 755, 756, 763, 766, 767,\n",
       "       768, 769, 770, 771, 772, 773, 774, 775, 776, 777])"
      ]
     },
     "execution_count": 46,
     "metadata": {},
     "output_type": "execute_result"
    }
   ],
   "source": [
    "up_mask.nonzero()[0]"
   ]
  },
  {
   "cell_type": "code",
   "execution_count": 22,
   "id": "60e4d841",
   "metadata": {},
   "outputs": [],
   "source": [
    "soa = np.concatenate([np.zeros((778, 3)), ver_normal - ver], axis=1)[:50]\n",
    "\n",
    "soa = np.concatenate([np.zeros((778, 3)), ver_normal], axis=1)[:100]\n",
    "\n",
    "X, Y, Z, U, V, W = zip(*soa)\n",
    "\n",
    "\n",
    "# # Color by azimuthal angle\n",
    "# c = np.arctan2(V, U)\n",
    "# # Flatten and normalize\n",
    "# c = (c.ravel() - c.min()) / c.ptp()\n",
    "# # Repeat for each body line and two head lines\n",
    "# c = np.concatenate((c, np.repeat(c, 2)))\n",
    "# # Colormap\n",
    "# c = plt.cm.hsv(c)\n",
    "\n",
    "c = np.ones((100, 3)) / 2\n",
    "\n",
    "\n",
    "\n",
    "\n",
    "fig = plt.figure()\n",
    "ax = fig.add_subplot(111, projection='3d')\n",
    "ax.quiver(X, Y, Z, U, V, W, colors=c)\n",
    "size = 200\n",
    "ax.set_xlim([-1, 1])\n",
    "ax.set_ylim([-1, 1])\n",
    "ax.set_zlim([-1, 1])\n",
    "plt.show()"
   ]
  },
  {
   "cell_type": "code",
   "execution_count": 52,
   "id": "d882305c",
   "metadata": {},
   "outputs": [],
   "source": [
    "up_idx = np.load(\"up_idx.npy\")"
   ]
  },
  {
   "cell_type": "code",
   "execution_count": 54,
   "id": "631c31b1",
   "metadata": {},
   "outputs": [
    {
     "data": {
      "text/plain": [
       "(439,)"
      ]
     },
     "execution_count": 54,
     "metadata": {},
     "output_type": "execute_result"
    }
   ],
   "source": [
    "up_idx.shape"
   ]
  },
  {
   "cell_type": "code",
   "execution_count": null,
   "id": "5a1f9a3b",
   "metadata": {},
   "outputs": [],
   "source": []
  }
 ],
 "metadata": {
  "kernelspec": {
   "display_name": "Python 3 (ipykernel)",
   "language": "python",
   "name": "python3"
  },
  "language_info": {
   "codemirror_mode": {
    "name": "ipython",
    "version": 3
   },
   "file_extension": ".py",
   "mimetype": "text/x-python",
   "name": "python",
   "nbconvert_exporter": "python",
   "pygments_lexer": "ipython3",
   "version": "3.7.13"
  }
 },
 "nbformat": 4,
 "nbformat_minor": 5
}
